{
 "cells": [
  {
   "cell_type": "code",
   "execution_count": 1,
   "metadata": {},
   "outputs": [],
   "source": [
    "import pyspark\n",
    "from pyspark.sql import SparkSession"
   ]
  },
  {
   "cell_type": "code",
   "execution_count": 2,
   "metadata": {},
   "outputs": [
    {
     "name": "stderr",
     "output_type": "stream",
     "text": [
      "Setting default log level to \"WARN\".\n",
      "To adjust logging level use sc.setLogLevel(newLevel). For SparkR, use setLogLevel(newLevel).\n"
     ]
    },
    {
     "name": "stdout",
     "output_type": "stream",
     "text": [
      "23/01/18 12:44:03 WARN NativeCodeLoader: Unable to load native-hadoop library for your platform... using builtin-java classes where applicable\n"
     ]
    }
   ],
   "source": [
    "spark = SparkSession.builder.appName(\"banking project\").getOrCreate()\n"
   ]
  },
  {
   "cell_type": "code",
   "execution_count": 3,
   "metadata": {},
   "outputs": [],
   "source": [
    "from pyspark.sql.functions import *"
   ]
  },
  {
   "attachments": {},
   "cell_type": "markdown",
   "metadata": {},
   "source": [
    "# Loading Datasets"
   ]
  },
  {
   "cell_type": "code",
   "execution_count": 6,
   "metadata": {},
   "outputs": [
    {
     "name": "stdout",
     "output_type": "stream",
     "text": [
      "root\n",
      " |-- Customer_ID: string (nullable = true)\n",
      " |-- Age: integer (nullable = true)\n",
      " |-- Gender: string (nullable = true)\n",
      " |-- Occupation: string (nullable = true)\n",
      " |-- Marital Status: string (nullable = true)\n",
      " |-- Family Size: integer (nullable = true)\n",
      " |-- Income: integer (nullable = true)\n",
      " |-- Expenditure: integer (nullable = true)\n",
      " |-- Use Frequency: integer (nullable = true)\n",
      " |-- Loan Category: string (nullable = true)\n",
      " |-- Loan Amount: string (nullable = true)\n",
      " |-- Overdue: integer (nullable = true)\n",
      " |--  Debt Record: string (nullable = true)\n",
      " |--  Returned Cheque: integer (nullable = true)\n",
      " |--  Dishonour of Bill: integer (nullable = true)\n",
      "\n",
      "+-----------+---+------+-------------------+--------------+-----------+------+-----------+-------------+------------------+-----------+-------+------------+----------------+------------------+\n",
      "|Customer_ID|Age|Gender|         Occupation|Marital Status|Family Size|Income|Expenditure|Use Frequency|     Loan Category|Loan Amount|Overdue| Debt Record| Returned Cheque| Dishonour of Bill|\n",
      "+-----------+---+------+-------------------+--------------+-----------+------+-----------+-------------+------------------+-----------+-------+------------+----------------+------------------+\n",
      "|    IB14001| 30|  MALE|       BANK MANAGER|        SINGLE|          4| 50000|      22199|            6|           HOUSING| 10,00,000 |      5|      42,898|               6|                 9|\n",
      "|    IB14008| 44|  MALE|          PROFESSOR|       MARRIED|          6| 51000|      19999|            4|          SHOPPING|     50,000|      3|      33,999|               1|                 5|\n",
      "|    IB14012| 30|FEMALE|            DENTIST|        SINGLE|          3| 58450|      27675|            5|        TRAVELLING|     75,000|      6|      20,876|               3|                 1|\n",
      "|    IB14018| 29|  MALE|            TEACHER|       MARRIED|          5| 45767|      12787|            3|         GOLD LOAN|  6,00,000 |      7|      11,000|               0|                 4|\n",
      "|    IB14022| 34|  MALE|             POLICE|        SINGLE|          4| 43521|      11999|            3|        AUTOMOBILE|  2,00,000 |      2|      43,898|               1|                 2|\n",
      "|    IB14024| 55|FEMALE|              NURSE|       MARRIED|          6| 34999|      19888|            4|        AUTOMOBILE|     47,787|      1|      50,000|               0|                 3|\n",
      "|    IB14025| 39|FEMALE|            TEACHER|       MARRIED|          6| 46619|      18675|            4|           HOUSING| 12,09,867 |      8|      29,999|               6|                 8|\n",
      "|    IB14027| 51|  MALE|     SYSTEM MANAGER|       MARRIED|          3| 49999|      19111|            5|       RESTAURANTS|     60,676|      8|      13,000|               2|                 5|\n",
      "|    IB14029| 24|FEMALE|            TEACHER|        SINGLE|          3| 45008|      17454|            4|        AUTOMOBILE|  3,99,435 |      9|      51,987|               4|                 7|\n",
      "|    IB14031| 37|FEMALE|  SOFTWARE ENGINEER|       MARRIED|          5| 55999|      23999|            5|        AUTOMOBILE|     60,999|      2|           0|               5|                 3|\n",
      "|    IB14032| 24|  MALE|       DATA ANALYST|        SINGLE|          4| 60111|      28999|            6|        AUTOMOBILE|     35,232|      5|      33,333|               1|                 2|\n",
      "|    IB14034| 32|  MALE|   PRODUCT ENGINEER|       MARRIED|          6|  null|      29000|            7|COMPUTER SOFTWARES|     80,660|      6|       4,500|               5|                 4|\n",
      "|    IB14037| 54|FEMALE|            TEACHER|       MARRIED|          5| 48099|      19999|            4|       RESTAURANTS|     30,999|      1|      12,000|               7|                 5|\n",
      "|    IB14039| 45|  MALE|    ACCOUNT MANAGER|       MARRIED|          7| 45777|      18452|            4|         GOLD LOAN|  9,87,611 |      7|      39,999|               8|                 1|\n",
      "|    IB14041| 59|FEMALE|ASSISTANT PROFESSOR|       MARRIED|          4| 50999|      22999|            5|  EDUCATIONAL LOAN|  5,99,934 |      3|       9,000|               9|                 9|\n",
      "|    IB14042| 25|FEMALE|             DOCTOR|        SINGLE|          4| 60111|      27111|            5|        TRAVELLING| 12,90,929 |      4|      18,000|               1|                 0|\n",
      "|    IB14045| 31|  MALE|       STORE KEEPER|        SINGLE|          5| 40999|      11999|            3|       BOOK STORES|  1,67,654 |      1|       4,500|               0|                 1|\n",
      "|    IB14049| 49|  MALE|       BANK MANAGER|       MARRIED|          4| 45999|      14500|            4|        TRAVELLING|     79,999|      4|       6,700|               7|                 3|\n",
      "|    IB14050| 56|  MALE|     CIVIL ENGINEER|       MARRIED|          4|  null|      13999|            3|           HOUSING| 10,65,577 |      6|      19,999|               4|                 2|\n",
      "|    IB14054| 58|FEMALE|             DOCTOR|       MARRIED|          5| 60000|      25000|            5|           HOUSING|  9,00,000 |      5|      21,000|               9|                 0|\n",
      "+-----------+---+------+-------------------+--------------+-----------+------+-----------+-------------+------------------+-----------+-------+------------+----------------+------------------+\n",
      "only showing top 20 rows\n",
      "\n"
     ]
    }
   ],
   "source": [
    "loanDF = spark.read.csv(\"loan.csv\", inferSchema =True, header=True)\n",
    "\n",
    "loanDF.printSchema()\n",
    "loanDF.show()"
   ]
  },
  {
   "cell_type": "code",
   "execution_count": 7,
   "metadata": {},
   "outputs": [
    {
     "name": "stdout",
     "output_type": "stream",
     "text": [
      "500  distinct  500\n"
     ]
    }
   ],
   "source": [
    "print(loanDF.count() ,\" distinct \" , loanDF.distinct().count() )"
   ]
  },
  {
   "cell_type": "code",
   "execution_count": 9,
   "metadata": {},
   "outputs": [
    {
     "name": "stdout",
     "output_type": "stream",
     "text": [
      "+------------------+-----+\n",
      "|Loan Category     |count|\n",
      "+------------------+-----+\n",
      "|GOLD LOAN         |77   |\n",
      "|HOUSING           |67   |\n",
      "|AUTOMOBILE        |60   |\n",
      "|TRAVELLING        |53   |\n",
      "|RESTAURANTS       |41   |\n",
      "|COMPUTER SOFTWARES|35   |\n",
      "|SHOPPING          |35   |\n",
      "|BUSINESS          |24   |\n",
      "|EDUCATIONAL LOAN  |20   |\n",
      "|RESTAURANT        |20   |\n",
      "|HOME APPLIANCES   |14   |\n",
      "|DINNING           |14   |\n",
      "|ELECTRONICS       |14   |\n",
      "|AGRICULTURE       |12   |\n",
      "|BOOK STORES       |7    |\n",
      "|BUILDING          |7    |\n",
      "+------------------+-----+\n",
      "\n"
     ]
    }
   ],
   "source": [
    "loanDF.groupBy(\"Loan Category\").count().orderBy(col(\"count\").desc()).show(truncate=False)"
   ]
  },
  {
   "attachments": {},
   "cell_type": "markdown",
   "metadata": {},
   "source": [
    "# Trying out some commands "
   ]
  },
  {
   "cell_type": "code",
   "execution_count": 11,
   "metadata": {},
   "outputs": [
    {
     "name": "stdout",
     "output_type": "stream",
     "text": [
      "+-----------+---+------+---------------+--------------+-----------+------+-----------+-------------+-------------+-----------+-------+------------+----------------+------------------+\n",
      "|Customer_ID|Age|Gender|Occupation     |Marital Status|Family Size|Income|Expenditure|Use Frequency|Loan Category|Loan Amount|Overdue| Debt Record| Returned Cheque| Dishonour of Bill|\n",
      "+-----------+---+------+---------------+--------------+-----------+------+-----------+-------------+-------------+-----------+-------+------------+----------------+------------------+\n",
      "|IB14158    |54 |MALE  |AIRPORT OFFICER|MARRIED       |6          |80000 |62541      |2            |AUTOMOBILE   | 20,45,789 |1      |16,599      |2               |3                 |\n",
      "|IB14176    |54 |MALE  |AIRPORT OFFICER|MARRIED       |6          |80000 |62541      |2            |HOUSING      | 20,45,789 |1      |16,599      |2               |3                 |\n",
      "|IB14204    |54 |MALE  |AIRPORT OFFICER|MARRIED       |6          |81000 |62541      |2            |DINNING      | 20,45,789 |1      |16,599      |2               |3                 |\n",
      "|IB14227    |54 |MALE  |AIRPORT OFFICER|MARRIED       |6          |80000 |62541      |2            |HOUSING      | 20,45,789 |1      |16,599      |2               |3                 |\n",
      "|IB14278    |41 |MALE  |BANK MANAGER   |MARRIED       |6          |64125 |51246      |6            |TRAVELLING   | 6,52,147  |5      |16,524      |3               |3                 |\n",
      "|IB15024    |26 |MALE  |DIETICIAN      |SINGLE        |3          |95425 |53086      |2            |HOUSING      |488,076    |4      |61227       |5               |2                 |\n",
      "+-----------+---+------+---------------+--------------+-----------+------+-----------+-------------+-------------+-----------+-------+------------+----------------+------------------+\n",
      "\n"
     ]
    },
    {
     "data": {
      "text/plain": [
       "6"
      ]
     },
     "execution_count": 11,
     "metadata": {},
     "output_type": "execute_result"
    }
   ],
   "source": [
    "loanDF.filter(col(\"Expenditure\")>50000).show(truncate=False)\n",
    "loanDF.filter(col(\"Expenditure\")>50000).count()\n",
    "\n"
   ]
  },
  {
   "cell_type": "code",
   "execution_count": 15,
   "metadata": {},
   "outputs": [
    {
     "name": "stdout",
     "output_type": "stream",
     "text": [
      "+-----------+---+------+-------------------+--------------+-----------+------+-----------+-------------+------------------+-----------+-------+------------+----------------+------------------+\n",
      "|Customer_ID|Age|Gender|Occupation         |Marital Status|Family Size|Income|Expenditure|Use Frequency|Loan Category     |Loan Amount|Overdue| Debt Record| Returned Cheque| Dishonour of Bill|\n",
      "+-----------+---+------+-------------------+--------------+-----------+------+-----------+-------------+------------------+-----------+-------+------------+----------------+------------------+\n",
      "|IB14001    |30 |MALE  |BANK MANAGER       |SINGLE        |4          |50000 |22199      |6            |HOUSING           | 10,00,000 |5      |42,898      |6               |9                 |\n",
      "|IB14008    |44 |MALE  |PROFESSOR          |MARRIED       |6          |51000 |19999      |4            |SHOPPING          |50,000     |3      |33,999      |1               |5                 |\n",
      "|IB14018    |29 |MALE  |TEACHER            |MARRIED       |5          |45767 |12787      |3            |GOLD LOAN         | 6,00,000  |7      |11,000      |0               |4                 |\n",
      "|IB14022    |34 |MALE  |POLICE             |SINGLE        |4          |43521 |11999      |3            |AUTOMOBILE        | 2,00,000  |2      |43,898      |1               |2                 |\n",
      "|IB14024    |55 |FEMALE|NURSE              |MARRIED       |6          |34999 |19888      |4            |AUTOMOBILE        |47,787     |1      |50,000      |0               |3                 |\n",
      "|IB14025    |39 |FEMALE|TEACHER            |MARRIED       |6          |46619 |18675      |4            |HOUSING           | 12,09,867 |8      |29,999      |6               |8                 |\n",
      "|IB14031    |37 |FEMALE|SOFTWARE ENGINEER  |MARRIED       |5          |55999 |23999      |5            |AUTOMOBILE        |60,999     |2      |0           |5               |3                 |\n",
      "|IB14032    |24 |MALE  |DATA ANALYST       |SINGLE        |4          |60111 |28999      |6            |AUTOMOBILE        |35,232     |5      |33,333      |1               |2                 |\n",
      "|IB14034    |32 |MALE  |PRODUCT ENGINEER   |MARRIED       |6          |null  |29000      |7            |COMPUTER SOFTWARES|80,660     |6      |4,500       |5               |4                 |\n",
      "|IB14037    |54 |FEMALE|TEACHER            |MARRIED       |5          |48099 |19999      |4            |RESTAURANTS       |30,999     |1      |12,000      |7               |5                 |\n",
      "|IB14039    |45 |MALE  |ACCOUNT MANAGER    |MARRIED       |7          |45777 |18452      |4            |GOLD LOAN         | 9,87,611  |7      |39,999      |8               |1                 |\n",
      "|IB14041    |59 |FEMALE|ASSISTANT PROFESSOR|MARRIED       |4          |50999 |22999      |5            |EDUCATIONAL LOAN  | 5,99,934  |3      |9,000       |9               |9                 |\n",
      "|IB14042    |25 |FEMALE|DOCTOR             |SINGLE        |4          |60111 |27111      |5            |TRAVELLING        | 12,90,929 |4      |18,000      |1               |0                 |\n",
      "|IB14045    |31 |MALE  |STORE KEEPER       |SINGLE        |5          |40999 |11999      |3            |BOOK STORES       | 1,67,654  |1      |4,500       |0               |1                 |\n",
      "|IB14049    |49 |MALE  |BANK MANAGER       |MARRIED       |4          |45999 |14500      |4            |TRAVELLING        |79,999     |4      |6,700       |7               |3                 |\n",
      "|IB14050    |56 |MALE  |CIVIL ENGINEER     |MARRIED       |4          |null  |13999      |3            |HOUSING           | 10,65,577 |6      |19,999      |4               |2                 |\n",
      "|IB14054    |58 |FEMALE|DOCTOR             |MARRIED       |5          |60000 |25000      |5            |HOUSING           | 9,00,000  |5      |21,000      |9               |0                 |\n",
      "|IB14057    |25 |MALE  |AIRPORT OFFICER    |SINGLE        |4          |40000 |18888      |3            |RESTAURANTS       | 4,00,000  |8      |11,111      |1               |7                 |\n",
      "|IB14060    |36 |FEMALE|CLERK              |MARRIED       |4          |35000 |15000      |3            |HOUSING           | 3,00,000  |2      |5,600       |4               |8                 |\n",
      "|IB14070    |40 |MALE  |PUBLIC WORKS       |MARRIED       |4          |38000 |20000      |3            |GOLD LOAN         | 4,00,000  |9      |19,954      |3               |2                 |\n",
      "+-----------+---+------+-------------------+--------------+-----------+------+-----------+-------------+------------------+-----------+-------+------------+----------------+------------------+\n",
      "only showing top 20 rows\n",
      "\n"
     ]
    }
   ],
   "source": [
    "loanDF.filter(col(\"Family Size\")>3).show(truncate=False)"
   ]
  },
  {
   "cell_type": "code",
   "execution_count": 16,
   "metadata": {},
   "outputs": [],
   "source": [
    "txnDF = spark.read.csv(\"txn.csv\", inferSchema=True, header =True)\n"
   ]
  },
  {
   "cell_type": "code",
   "execution_count": 17,
   "metadata": {},
   "outputs": [
    {
     "name": "stdout",
     "output_type": "stream",
     "text": [
      "root\n",
      " |-- Account No: string (nullable = true)\n",
      " |-- TRANSACTION DETAILS: string (nullable = true)\n",
      " |-- VALUE DATE: string (nullable = true)\n",
      " |--  WITHDRAWAL AMT : double (nullable = true)\n",
      " |--  DEPOSIT AMT : double (nullable = true)\n",
      " |-- BALANCE AMT: double (nullable = true)\n",
      "\n"
     ]
    }
   ],
   "source": [
    "txnDF.printSchema()"
   ]
  },
  {
   "cell_type": "code",
   "execution_count": 20,
   "metadata": {},
   "outputs": [
    {
     "name": "stdout",
     "output_type": "stream",
     "text": [
      "+-------------+-----+\n",
      "|Account No   |count|\n",
      "+-------------+-----+\n",
      "|409000438611'|4588 |\n",
      "|1196711'     |10536|\n",
      "|1196428'     |48779|\n",
      "|409000493210'|6014 |\n",
      "|409000611074'|1093 |\n",
      "|409000425051'|802  |\n",
      "|409000405747'|51   |\n",
      "|409000493201'|1044 |\n",
      "|409000438620'|13454|\n",
      "|409000362497'|29840|\n",
      "+-------------+-----+\n",
      "\n"
     ]
    }
   ],
   "source": [
    "txnDF.groupBy(col(\"Account No\")).count().show(truncate=False)"
   ]
  },
  {
   "cell_type": "code",
   "execution_count": 21,
   "metadata": {},
   "outputs": [
    {
     "name": "stdout",
     "output_type": "stream",
     "text": [
      "+-------------+---------------------+\n",
      "|   Account No|max( WITHDRAWAL AMT )|\n",
      "+-------------+---------------------+\n",
      "|     1196711'|        4.594475464E8|\n",
      "|409000438620'|                4.0E8|\n",
      "|409000425051'|               3.54E8|\n",
      "|409000438611'|                2.4E8|\n",
      "|409000405747'|                1.7E8|\n",
      "|     1196428'|                1.5E8|\n",
      "|409000362497'|        1.413662392E8|\n",
      "|409000493210'|                1.5E7|\n",
      "|409000493201'|            2500000.0|\n",
      "|409000611074'|             912000.0|\n",
      "+-------------+---------------------+\n",
      "\n"
     ]
    }
   ],
   "source": [
    "txnDF.groupBy(\"Account No\").max(\" WITHDRAWAL AMT \").orderBy(\"max( WITHDRAWAL AMT )\", ascending = False).show()\n",
    "\n"
   ]
  },
  {
   "cell_type": "code",
   "execution_count": 22,
   "metadata": {},
   "outputs": [
    {
     "name": "stdout",
     "output_type": "stream",
     "text": [
      "+-------------+---------------------+\n",
      "|   Account No|min( WITHDRAWAL AMT )|\n",
      "+-------------+---------------------+\n",
      "|409000493210'|                 0.01|\n",
      "|409000438611'|                  0.2|\n",
      "|     1196711'|                 0.25|\n",
      "|     1196428'|                 0.25|\n",
      "|409000438620'|                 0.34|\n",
      "|409000362497'|                 0.97|\n",
      "|409000425051'|                 1.25|\n",
      "|409000493201'|                  2.1|\n",
      "|409000405747'|                 21.0|\n",
      "|409000611074'|                120.0|\n",
      "+-------------+---------------------+\n",
      "\n"
     ]
    }
   ],
   "source": [
    "txnDF.groupBy(\"Account No\").min(\" WITHDRAWAL AMT \").orderBy(\"min( WITHDRAWAL AMT )\").show()\n"
   ]
  },
  {
   "cell_type": "code",
   "execution_count": 23,
   "metadata": {},
   "outputs": [
    {
     "name": "stdout",
     "output_type": "stream",
     "text": [
      "+-------------+------------------+\n",
      "|   Account No|max( DEPOSIT AMT )|\n",
      "+-------------+------------------+\n",
      "|409000438620'|           5.448E8|\n",
      "|     1196711'|             5.0E8|\n",
      "|     1196428'|     2.119594422E8|\n",
      "|409000405747'|           2.021E8|\n",
      "|409000362497'|             2.0E8|\n",
      "|409000438611'|          1.7025E8|\n",
      "|409000425051'|             1.5E7|\n",
      "|409000493210'|             1.5E7|\n",
      "|409000611074'|         3000000.0|\n",
      "|409000493201'|         1000000.0|\n",
      "+-------------+------------------+\n",
      "\n"
     ]
    }
   ],
   "source": [
    "\n",
    "txnDF.groupBy(\"Account No\").max(\" DEPOSIT AMT \").orderBy(\"max( DEPOSIT AMT )\", ascending = False).show()\n"
   ]
  },
  {
   "cell_type": "code",
   "execution_count": 24,
   "metadata": {},
   "outputs": [
    {
     "name": "stdout",
     "output_type": "stream",
     "text": [
      "+----------+-----+\n",
      "|VALUE DATE|count|\n",
      "+----------+-----+\n",
      "| 27-Jul-17|  567|\n",
      "| 13-Aug-18|  463|\n",
      "|  8-Nov-17|  402|\n",
      "|  7-Oct-17|  382|\n",
      "| 10-Jul-18|  374|\n",
      "| 12-Dec-17|  367|\n",
      "| 12-Sep-18|  365|\n",
      "|  9-Aug-18|  360|\n",
      "| 19-Sep-17|  358|\n",
      "| 16-Mar-17|  353|\n",
      "| 10-Sep-18|  344|\n",
      "| 14-Jul-17|  333|\n",
      "|  7-Mar-18|  319|\n",
      "| 11-Oct-18|  303|\n",
      "| 22-Aug-17|  301|\n",
      "|  9-Jan-18|  299|\n",
      "|  9-Oct-18|  297|\n",
      "| 20-Apr-18|  296|\n",
      "|  9-Jul-18|  292|\n",
      "|  7-Apr-18|  291|\n",
      "+----------+-----+\n",
      "only showing top 20 rows\n",
      "\n"
     ]
    }
   ],
   "source": [
    "txnDF.groupBy(\"VALUE DATE\").count().orderBy(\"count\", ascending = False).show()"
   ]
  },
  {
   "cell_type": "code",
   "execution_count": 27,
   "metadata": {},
   "outputs": [
    {
     "name": "stdout",
     "output_type": "stream",
     "text": [
      "+-------------+--------------------------------+----------------+\n",
      "|Account No   |TRANSACTION DETAILS             | WITHDRAWAL AMT |\n",
      "+-------------+--------------------------------+----------------+\n",
      "|409000611074'|INDO GIBL Indiaforensic STL01071|133900.0        |\n",
      "|409000611074'|INDO GIBL Indiaforensic STL04071|195800.0        |\n",
      "|409000611074'|INDO GIBL Indiaforensic STL10071|143800.0        |\n",
      "|409000611074'|INDO GIBL Indiaforensic STL11071|331650.0        |\n",
      "|409000611074'|INDO GIBL Indiaforensic STL12071|129000.0        |\n",
      "|409000611074'|INDO GIBL Indiaforensic STL13071|230013.0        |\n",
      "|409000611074'|INDO GIBL Indiaforensic STL14071|367900.0        |\n",
      "|409000611074'|INDO GIBL Indiaforensic STL15071|108000.0        |\n",
      "|409000611074'|INDO GIBL Indiaforensic STL17071|141000.0        |\n",
      "|409000611074'|INDO GIBL Indiaforensic STL22071|206000.0        |\n",
      "|409000611074'|INDO GIBL Indiaforensic STL02081|242300.0        |\n",
      "|409000611074'|INDO GIBL Indiaforensic STL04081|113250.0        |\n",
      "|409000611074'|INDO GIBL Indiaforensic STL07081|206900.0        |\n",
      "|409000611074'|INDO GIBL Indiaforensic STL08081|276000.0        |\n",
      "|409000611074'|INDO GIBL Indiaforensic STL09081|171000.0        |\n",
      "|409000611074'|INDO GIBL Indiaforensic STL11081|189800.0        |\n",
      "|409000611074'|INDO GIBL Indiaforensic STL14081|271323.0        |\n",
      "|409000611074'|INDO GIBL Indiaforensic STL16081|200600.0        |\n",
      "|409000611074'|INDO GIBL Indiaforensic STL17081|176900.0        |\n",
      "|409000611074'|INDO GIBL Indiaforensic STL18081|150050.0        |\n",
      "+-------------+--------------------------------+----------------+\n",
      "only showing top 20 rows\n",
      "\n"
     ]
    }
   ],
   "source": [
    "txnDF.select(\"Account No\",\"TRANSACTION DETAILS\",\" WITHDRAWAL AMT \").filter(txnDF[\" WITHDRAWAL AMT \"]>100000).show(truncate=False)\n"
   ]
  },
  {
   "cell_type": "code",
   "execution_count": null,
   "metadata": {},
   "outputs": [],
   "source": []
  },
  {
   "cell_type": "code",
   "execution_count": null,
   "metadata": {},
   "outputs": [],
   "source": []
  }
 ],
 "metadata": {
  "kernelspec": {
   "display_name": "Python 3",
   "language": "python",
   "name": "python3"
  },
  "language_info": {
   "codemirror_mode": {
    "name": "ipython",
    "version": 3
   },
   "file_extension": ".py",
   "mimetype": "text/x-python",
   "name": "python",
   "nbconvert_exporter": "python",
   "pygments_lexer": "ipython3",
   "version": "3.10.9"
  },
  "orig_nbformat": 4,
  "vscode": {
   "interpreter": {
    "hash": "b0fa6594d8f4cbf19f97940f81e996739fb7646882a419484c72d19e05852a7e"
   }
  }
 },
 "nbformat": 4,
 "nbformat_minor": 2
}
